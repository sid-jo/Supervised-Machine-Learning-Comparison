{
 "cells": [
  {
   "cell_type": "code",
   "execution_count": null,
   "id": "3313dc15",
   "metadata": {},
   "outputs": [],
   "source": [
    "# Import necessary packages\n",
    "import numpy as np\n",
    "import pandas as pd\n",
    "import matplotlib.pyplot as plt\n",
    "from sklearn.preprocessing import OneHotEncoder\n",
    "from sklearn.utils import shuffle\n",
    "from sklearn.model_selection import KFold\n",
    "from sklearn.model_selection import train_test_split, cross_val_score\n",
    "from sklearn.svm import SVC\n",
    "from sklearn.preprocessing import StandardScaler\n",
    "from sklearn.metrics import accuracy_score\n",
    "\n",
    "np.set_printoptions(suppress = True)\n",
    "\n",
    "import warnings\n",
    "warnings.simplefilter(action='ignore')\n",
    "\n",
    "\n",
    "# Importing data sets\n",
    "from data_import import load_fruits, load_chess, load_music, load_lepiota\n",
    "\n",
    "fruit_X, fruit_Y = load_fruits()\n",
    "chess_X, chess_Y = load_chess()\n",
    "music_X, music_Y = load_music()\n",
    "lep_X, lep_Y = load_lepiota()"
   ]
  },
  {
   "cell_type": "markdown",
   "id": "cc9a9b1b",
   "metadata": {},
   "source": [
    "### SVM Training Loop"
   ]
  },
  {
   "cell_type": "code",
   "execution_count": null,
   "id": "c9bf3e23",
   "metadata": {},
   "outputs": [],
   "source": [
    "def svm_train(X, Y, size):\n",
    "\n",
    "    for i in np.arange(3):\n",
    "    \n",
    "        print('Splitting data')\n",
    "        X_train, X_test, y_train, y_test = train_test_split(X, Y, test_size = size, shuffle = True)\n",
    "        accs = np.array([])\n",
    "\n",
    "\n",
    "        scaler = StandardScaler()\n",
    "        X_train = scaler.fit_transform(X_train)\n",
    "\n",
    "        print('Initializing SVM')\n",
    "        svm_classifier = SVC(kernel = 'linear', C = 1)\n",
    "\n",
    "        print('Training SVM')\n",
    "        # Train the SVM on the training set\n",
    "        svm_classifier.fit(X_train, y_train)\n",
    "\n",
    "        print('Making predictions with trained SVM')\n",
    "        # Make predictions on the test set\n",
    "        y_pred = svm_classifier.predict(X_train)\n",
    "\n",
    "        print('Calculating accuracy of SVM')\n",
    "        # Evaluate the performance on the test set\n",
    "        accs = np.append(accs, accuracy_score(y_train, y_pred))\n",
    "    print(f\"Training Accuracy: {accs.mean():.3f}\")"
   ]
  },
  {
   "cell_type": "markdown",
   "id": "d51ec9c0",
   "metadata": {},
   "source": [
    "### SVM CV Loop"
   ]
  },
  {
   "cell_type": "code",
   "execution_count": null,
   "id": "68e59775",
   "metadata": {},
   "outputs": [],
   "source": [
    "def svm_cv(X, y, size):\n",
    "    X_train, X_test, y_train, y_test = train_test_split(X, y, test_size = size, shuffle = True)\n",
    "    opt_c = 0\n",
    "    best_acc = 0\n",
    "    scaler = StandardScaler()\n",
    "    X_train = scaler.fit_transform(X_train)\n",
    "    \n",
    "    for c in [0.001, 0.01, 0.1, 1, 10]:\n",
    "        #print('Testing C: {}'.format(c))\n",
    "        accs = np.array([])\n",
    "        for i in np.arange(3):\n",
    "            #print('Trial {}'.format(i + 1))\n",
    "            svm_classifier = SVC(kernel = 'linear', C = c)\n",
    "            cv = KFold(n_splits = 5, shuffle = True)\n",
    "            cv_scores = cross_val_score(svm_classifier, X_train, y_train, cv = cv)\n",
    "            accs = np.append(accs, sum(cv_scores) / 5)\n",
    "        #print(accs, accs.mean())\n",
    "        if accs.mean() > best_acc:\n",
    "            opt_c = c\n",
    "            best_acc = accs.mean()\n",
    "    print('Validation Accuracy: {}'.format(best_acc))\n",
    "    return opt_c"
   ]
  },
  {
   "cell_type": "markdown",
   "id": "78a222e2",
   "metadata": {},
   "source": [
    "### SVM Test Loop"
   ]
  },
  {
   "cell_type": "code",
   "execution_count": null,
   "id": "fd215f7f",
   "metadata": {},
   "outputs": [],
   "source": [
    "def svm_test(X, y, size, C):\n",
    "\n",
    "    for i in np.arange(3):\n",
    "        \n",
    "        X_train, X_test, y_train, y_test = train_test_split(X, y, test_size = size, shuffle = True)\n",
    "        accs = np.array([])\n",
    "        scaler = StandardScaler()\n",
    "        X_train = scaler.fit_transform(X_train)\n",
    "        X_test = scaler.fit_transform(X_test)\n",
    "        \n",
    "        svm_classifier = SVC(kernel = 'linear', C = C)\n",
    "\n",
    "        # Train the SVM on the training set\n",
    "        svm_classifier.fit(X_train, y_train)\n",
    "\n",
    "        # Make predictions on the test set\n",
    "        y_pred = svm_classifier.predict(X_test)\n",
    "\n",
    "        # Evaluate the performance on the test set\n",
    "        accs = np.append(accs, accuracy_score(y_test, y_pred))\n",
    "    print(f\"Testing Accuracy: {accs.mean():.3f}\")"
   ]
  },
  {
   "cell_type": "markdown",
   "id": "8c7f0504",
   "metadata": {},
   "source": [
    "### Pipeline"
   ]
  },
  {
   "cell_type": "code",
   "execution_count": null,
   "id": "5ce01933",
   "metadata": {},
   "outputs": [],
   "source": [
    "def run(X, y, size):\n",
    "    svm_train(X, y, size)\n",
    "    opt_C = svm_cv(X, y, size)\n",
    "    svm_test(X, y, size, opt_C)\n",
    "    print('Best C: {}'.format(opt_C))"
   ]
  },
  {
   "cell_type": "markdown",
   "id": "8831e312",
   "metadata": {},
   "source": [
    "<hr style=\"color:Maroon;background-color:Maroon;border:0 none; height: 3px;\">"
   ]
  },
  {
   "cell_type": "markdown",
   "id": "fd52865c",
   "metadata": {},
   "source": [
    "### Calling Pipeline on each Dataset"
   ]
  },
  {
   "cell_type": "code",
   "execution_count": null,
   "id": "ac5ce1fb",
   "metadata": {},
   "outputs": [],
   "source": [
    "run(fruit_X, fruit_Y, 0.8)\n",
    "run(fruit_X, fruit_Y, 0.5)\n",
    "run(fruit_X, fruit_Y, 0.2)\n",
    "print('-'*30)\n",
    "\n",
    "run(music_X, music_Y, 0.8)\n",
    "run(music_X, music_Y, 0.5)\n",
    "run(music_X, music_Y, 0.2)\n",
    "print('-'*30)\n",
    "\n",
    "run(lep_X, lep_Y, 0.8)\n",
    "run(lep_X, lep_Y, 0.5)\n",
    "run(lep_X, lep_Y, 0.2)\n",
    "print('-'*30)\n",
    "\n",
    "run(chess_X, chess_Y, 0.8)\n",
    "run(chess_X, chess_Y, 0.5)\n",
    "run(chess_X, chess_Y, 0.2)\n",
    "print('-'*30)"
   ]
  }
 ],
 "metadata": {
  "kernelspec": {
   "display_name": "Python 3 (clean)",
   "language": "python",
   "name": "python3_clean"
  },
  "language_info": {
   "codemirror_mode": {
    "name": "ipython",
    "version": 3
   },
   "file_extension": ".py",
   "mimetype": "text/x-python",
   "name": "python",
   "nbconvert_exporter": "python",
   "pygments_lexer": "ipython3",
   "version": "3.9.5"
  }
 },
 "nbformat": 4,
 "nbformat_minor": 5
}
