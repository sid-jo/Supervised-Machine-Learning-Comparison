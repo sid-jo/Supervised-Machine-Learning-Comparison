{
 "cells": [
  {
   "cell_type": "code",
   "execution_count": null,
   "id": "b2140e77",
   "metadata": {},
   "outputs": [],
   "source": [
    "# Import necessary packages\n",
    "import numpy as np\n",
    "import pandas as pd\n",
    "import matplotlib.pyplot as plt\n",
    "from sklearn.model_selection import train_test_split\n",
    "from sklearn.preprocessing import OneHotEncoder\n",
    "from sklearn.utils import shuffle\n",
    "from sklearn.model_selection import KFold\n",
    "np.set_printoptions(suppress = True)\n",
    "\n",
    "import warnings\n",
    "warnings.simplefilter(action='ignore')\n",
    "\n",
    "\n",
    "# Importing data sets\n",
    "from data_import import load_fruits, load_chess, load_music, load_lepiota\n",
    "\n",
    "fruit_X, fruit_Y = load_fruits()\n",
    "chess_X, chess_Y = load_chess()\n",
    "music_X, music_Y = load_music()\n",
    "lep_X, lep_Y = load_lepiota()"
   ]
  },
  {
   "cell_type": "markdown",
   "id": "46dc5a65",
   "metadata": {},
   "source": [
    "<hr style=\"color:Maroon;background-color:Maroon;border:0 none; height: 3px;\">"
   ]
  },
  {
   "cell_type": "markdown",
   "id": "09ee15de",
   "metadata": {},
   "source": [
    "### Perceptron Helper Functions"
   ]
  },
  {
   "cell_type": "code",
   "execution_count": null,
   "id": "d43e4422",
   "metadata": {},
   "outputs": [],
   "source": [
    "def judge(a, b):\n",
    "    if a != b:\n",
    "        return 1\n",
    "    else:\n",
    "        return 0\n",
    "    \n",
    "def f_perceptron(x, W, b):\n",
    "    \n",
    "    if x @ W + b >= 0:\n",
    "        return 1\n",
    "    else:\n",
    "        return -1\n",
    "\n",
    "# Calculate error given feature vectors X and labels Y\n",
    "def calc_error(X, Y, W, b):\n",
    "    e = np.array([])\n",
    "    n = X.shape[0]\n",
    "    for (xi, yi) in zip(X, Y):\n",
    "        pred = f_perceptron(xi, W, b)\n",
    "        e = np.append(e, judge(yi, pred))\n",
    "    \n",
    "    e = e.mean()\n",
    "    return e"
   ]
  },
  {
   "cell_type": "markdown",
   "id": "549dd95e",
   "metadata": {},
   "source": [
    "### Learning Algorithm"
   ]
  },
  {
   "cell_type": "code",
   "execution_count": null,
   "id": "f24bab9d",
   "metadata": {},
   "outputs": [],
   "source": [
    "def fit_perceptron(X_train, Y_train, lam = 1):\n",
    "    errors = [] # Error history\n",
    "    \n",
    "    # Initializing W and b\n",
    "    W = np.zeros(X_train.shape[1])\n",
    "    b = 0\n",
    "    iterations = 0\n",
    "\n",
    "    # Learning algorithm\n",
    "    while calc_error(X_train, Y_train, W, b) > 0 and iterations <= 5000:\n",
    "        print(iterations)\n",
    "        for xi, yi in zip(X_train, Y_train):  \n",
    "\n",
    "            # Compute the model prediction.\n",
    "            yi_pred = f_perceptron(xi, W, b)\n",
    "\n",
    "            # Compare prediction and label.\n",
    "            is_correct = yi_pred == yi\n",
    "            if is_correct:           \n",
    "                continue                      \n",
    "            else:\n",
    "                W = W + (lam * (yi - yi_pred) * xi)\n",
    "                b = b + lam * (yi - yi_pred) * 1\n",
    "        iterations += 1\n",
    "\n",
    "        # Track training errors \n",
    "        errors.append(calc_error(X_train, Y_train, W, b))\n",
    "    return errors, W, b\n",
    "\n",
    "def test_perceptron(X, y, W, b):\n",
    "    # Assessing performance on X and y for learned W and b\n",
    "    error = calc_error(X, y, W, b)\n",
    "    acc = 1 - error\n",
    "    return acc"
   ]
  },
  {
   "cell_type": "markdown",
   "id": "f6be5d01",
   "metadata": {},
   "source": [
    "### Cross Validation Algorithm"
   ]
  },
  {
   "cell_type": "code",
   "execution_count": null,
   "id": "d1efffc8",
   "metadata": {},
   "outputs": [],
   "source": [
    "# Combines labels (Y) as another column to feature set (X)\n",
    "def join_data(X, Y):\n",
    "    return np.hstack((X, Y.reshape(Y.shape[0], 1)))\n",
    "\n",
    "def cross_validate(X, y, size, lams):\n",
    "    best_acc = 0\n",
    "    best_lr = 0\n",
    "    print('Cross validating...')\n",
    "    X_train, X_test, Y_train, Y_test = train_test_split(X, y, test_size = size, shuffle = True)\n",
    "    data = join_data(X_train, Y_train)\n",
    "    kf = KFold(n_splits = 5, shuffle = True)\n",
    "    avg_accs = np.array([])\n",
    "    \n",
    "    for lr in lams:\n",
    "        print('CV for lr: {}'.format(lr))\n",
    "        for i in np.arange(1):\n",
    "            accs = np.array([])\n",
    "            for train_index, test_index in kf.split(data):\n",
    "                errors, W, b = fit_perceptron(data[train_index][:, :data.shape[1] - 1], data[train_index][:, -1], lr)\n",
    "                print('Model fit to folds')\n",
    "                acc = test_perceptron(data[train_index][:, :data.shape[1] - 1], data[train_index][:, -1], W, b)\n",
    "                print('Model tested on remaining fold, acc: {}'.format(acc))\n",
    "                print('-' * 30)\n",
    "                accs = np.append(accs, acc)\n",
    "            avg_accs = np.append(avg_accs, accs.mean())\n",
    "        if avg_accs.mean() > best_acc:\n",
    "            best_lr = lr\n",
    "            best_acc = avg_accs.mean()\n",
    "    print('Best lr: {}'.format(best_lr))\n",
    "    return best_lr"
   ]
  },
  {
   "cell_type": "markdown",
   "id": "ca8957d3",
   "metadata": {},
   "source": [
    "### Model Training Loop"
   ]
  },
  {
   "cell_type": "code",
   "execution_count": null,
   "id": "39c8fea0",
   "metadata": {},
   "outputs": [],
   "source": [
    "def train_model(X, y, size):\n",
    "    avg = 0\n",
    "    for i in np.arange(3):\n",
    "        X_train, X_test, Y_train, Y_test = train_test_split(X, y, test_size = size, shuffle = True)\n",
    "        errors, W, b = fit_perceptron(X_train, Y_train)\n",
    "        avg += test_perceptron(X_train, Y_train, W, b)\n",
    "    print(avg / 3)"
   ]
  },
  {
   "cell_type": "markdown",
   "id": "9d9725ff",
   "metadata": {},
   "source": [
    "### Model Testing Loop"
   ]
  },
  {
   "cell_type": "code",
   "execution_count": null,
   "id": "5b74d9fa",
   "metadata": {},
   "outputs": [],
   "source": [
    "def test_model(X, y, size, lr):\n",
    "    avg = 0\n",
    "    for i in np.arange(3):\n",
    "        X_train, X_test, Y_train, Y_test = train_test_split(X, y, test_size = size, shuffle = True)\n",
    "        errors, W, b = fit_perceptron(X_train, Y_train, lr)\n",
    "        avg += test_perceptron(X_test, Y_test, W, b)\n",
    "    print(avg / 3)"
   ]
  },
  {
   "cell_type": "markdown",
   "id": "9baadf76",
   "metadata": {},
   "source": [
    "<hr style=\"color:Maroon;background-color:Maroon;border:0 none; height: 3px;\">"
   ]
  },
  {
   "cell_type": "markdown",
   "id": "a4eebc56",
   "metadata": {},
   "source": [
    "### Training Performance on each Dataset"
   ]
  },
  {
   "cell_type": "code",
   "execution_count": null,
   "id": "0467a2a6",
   "metadata": {
    "scrolled": true
   },
   "outputs": [],
   "source": [
    "train_model(fruit_X, fruit_Y, 0.8)\n",
    "train_model(fruit_X, fruit_Y, 0.5)\n",
    "train_model(fruit_X, fruit_Y, 0.2)\n",
    "\n",
    "train_model(chess_X, chess_Y, 0.8)\n",
    "train_model(chess_X, chess_Y, 0.5)\n",
    "train_model(chess_X, chess_Y, 0.2)\n",
    "\n",
    "train_model(music_X, music_Y, 0.8)\n",
    "train_model(music_X, music_Y, 0.5)\n",
    "train_model(music_X, music_Y, 0.2)\n",
    "\n",
    "train_model(lep_X, lep_Y, 0.8)\n",
    "train_model(lep_X, lep_Y, 0.5)\n",
    "train_model(lep_X, lep_Y, 0.2)"
   ]
  },
  {
   "cell_type": "markdown",
   "id": "a426f4df",
   "metadata": {},
   "source": [
    "### Cross Validating on each Dataset"
   ]
  },
  {
   "cell_type": "code",
   "execution_count": null,
   "id": "3c20ff8d",
   "metadata": {},
   "outputs": [],
   "source": [
    "best_f20 = cross_validate(fruit_X, fruit_Y, 0.8, [0.0001, 0.001, 0.01, 0.1, 1])\n",
    "best_f50 = cross_validate(fruit_X, fruit_Y, 0.5, [0.0001, 0.001, 0.01, 0.1, 1])\n",
    "best_f80 = cross_validate(fruit_X, fruit_Y, 0.2, [0.0001, 0.001, 0.01, 0.1, 1])\n",
    "\n",
    "best_c20 = cross_validate(chess_X, chess_Y, 0.8, [0.0001, 0.001, 0.01, 0.1, 1])\n",
    "best_c50 = cross_validate(chess_X, chess_Y, 0.5, [0.0001, 0.001, 0.01, 0.1, 1])\n",
    "best_c80 = cross_validate(chess_X, chess_Y, 0.2, [0.0001, 0.001, 0.01, 0.1, 1])\n",
    "\n",
    "best_m20 = cross_validate(music_X, music_Y, 0.8, [0.0001, 0.001, 0.01, 0.1, 1])\n",
    "best_m50 = cross_validate(music_X, music_Y, 0.5, [0.0001, 0.001, 0.01, 0.1, 1])\n",
    "best_m80 = cross_validate(music_X, music_Y, 0.2, [0.0001, 0.001, 0.01, 0.1, 1])\n",
    "\n",
    "best_l20 = cross_validate(lep_X, lep_Y, 0.8, [0.0001, 0.001, 0.01, 0.1, 1])\n",
    "best_l50 = cross_validate(lep_X, lep_Y, 0.5, [0.0001, 0.001, 0.01, 0.1, 1])\n",
    "best_l80 = cross_validate(lep_X, lep_Y, 0.2, [0.0001, 0.001, 0.01, 0.1, 1])"
   ]
  },
  {
   "cell_type": "markdown",
   "id": "d4b14972",
   "metadata": {},
   "source": [
    "### Testing Performance on each Dataset"
   ]
  },
  {
   "cell_type": "code",
   "execution_count": null,
   "id": "3a996d41",
   "metadata": {},
   "outputs": [],
   "source": [
    "test_model(fruit_X, fruit_Y, 0.8, best_f20)\n",
    "test_model(fruit_X, fruit_Y, 0.5, best_f50)\n",
    "test_model(fruit_X, fruit_Y, 0.2, best_f80)\n",
    "\n",
    "test_model(chess_X, chess_Y, 0.8, best_c20)\n",
    "test_model(chess_X, chess_Y, 0.5, best_c50)\n",
    "test_model(chess_X, chess_Y, 0.2, best_c80)\n",
    "\n",
    "test_model(music_X, music_Y, 0.8, best_m20)\n",
    "test_model(music_X, music_Y, 0.5, best_m50)\n",
    "test_model(music_X, music_Y, 0.2, best_m80)\n",
    "\n",
    "test_model(lep_X, lep_Y, 0.8, best_l20)\n",
    "test_model(lep_X, lep_Y, 0.5, best_l50)\n",
    "test_model(lep_X, lep_Y, 0.2, best_l80)"
   ]
  }
 ],
 "metadata": {
  "kernelspec": {
   "display_name": "Python 3 (ipykernel)",
   "language": "python",
   "name": "python3"
  },
  "language_info": {
   "codemirror_mode": {
    "name": "ipython",
    "version": 3
   },
   "file_extension": ".py",
   "mimetype": "text/x-python",
   "name": "python",
   "nbconvert_exporter": "python",
   "pygments_lexer": "ipython3",
   "version": "3.9.5"
  }
 },
 "nbformat": 4,
 "nbformat_minor": 5
}
