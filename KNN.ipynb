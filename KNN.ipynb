{
 "cells": [
  {
   "cell_type": "markdown",
   "id": "3e2d6f74",
   "metadata": {},
   "source": [
    "## K-Nearest Neighbors Classifier"
   ]
  },
  {
   "cell_type": "code",
   "execution_count": 1,
   "id": "5fadc3cb",
   "metadata": {},
   "outputs": [
    {
     "name": "stdout",
     "output_type": "stream",
     "text": [
      "Fruit feature space: (10000, 4)\n",
      "Fruit label space (10000,)\n",
      "Chess feature space: (20058, 373)\n",
      "Chess label space (20058,)\n",
      "Music feature space: (200, 28)\n",
      "Music label space (200,)\n",
      "Lepiota feature space: (8124, 46)\n",
      "Lepiota label space: (8124,)\n"
     ]
    }
   ],
   "source": [
    "# Import necessary packages\n",
    "import numpy as np\n",
    "import pandas as pd\n",
    "import matplotlib.pyplot as plt\n",
    "import seaborn as sns\n",
    "from sklearn.model_selection import train_test_split\n",
    "from sklearn.metrics import confusion_matrix, classification_report\n",
    "from sklearn.preprocessing import OneHotEncoder\n",
    "from sklearn.utils import shuffle\n",
    "from sklearn.metrics import accuracy_score\n",
    "from sklearn.model_selection import KFold\n",
    "from sklearn.metrics import classification_report\n",
    "from sklearn.model_selection import GridSearchCV\n",
    "from sklearn.neighbors import KNeighborsClassifier\n",
    "np.set_printoptions(suppress = True)\n",
    "\n",
    "import warnings\n",
    "warnings.simplefilter(action='ignore')\n",
    "\n",
    "\n",
    "# Importing data sets\n",
    "from data_import import load_fruits, load_chess, load_music, load_lepiota\n",
    "\n",
    "fruit_X, fruit_Y = load_fruits()\n",
    "chess_X, chess_Y = load_chess()\n",
    "music_X, music_Y = load_music()\n",
    "lep_X, lep_Y = load_lepiota()\n"
   ]
  },
  {
   "cell_type": "markdown",
   "id": "9e7b67d1",
   "metadata": {},
   "source": [
    "### Algorithm"
   ]
  },
  {
   "cell_type": "code",
   "execution_count": 2,
   "id": "2ab3fdbd",
   "metadata": {},
   "outputs": [],
   "source": [
    "# No training step as KNN memorizes the entire dataset\n",
    "\n",
    "# Euclidean distance between two feature vectors\n",
    "def euclidean_distance(a, b):\n",
    "    return np.sqrt(((a - b) ** 2).sum())\n",
    "    \n",
    "# Calculate error and accuracy\n",
    "def calc_performance(preds, gts):\n",
    "    e = 0\n",
    "    n = len(preds)\n",
    "    e = np.count_nonzero(preds != gts)\n",
    "    acc = n - e\n",
    "    return e / n, acc / n\n",
    "\n",
    "# KNN Algorithm\n",
    "def knn_classifier(X_train, Y_train, X, y, k):\n",
    "    y_preds = np.array([])\n",
    "    \n",
    "    for sample in X:\n",
    "           \n",
    "        dist_label_pairs = []\n",
    "\n",
    "        for xi, yi in zip(X_train, Y_train):\n",
    "            dist = euclidean_distance(xi, sample)\n",
    "            dist_label_pairs.append((dist, yi))\n",
    "\n",
    "        sorted_dist_label_pairs = sorted(dist_label_pairs, key = lambda x:x[0])\n",
    "\n",
    "        k_dist_label_pairs = sorted_dist_label_pairs[:k]\n",
    "        \n",
    "        k_labels = [pair[1] for pair in k_dist_label_pairs]\n",
    "        \n",
    "        # Counting predictions and assigning majority label to sample\n",
    "        pos_labels = 0 \n",
    "        neg_labels = 0\n",
    "        for label in k_labels:\n",
    "            if label == 1:\n",
    "                pos_labels += 1\n",
    "            elif label == -1:\n",
    "                neg_labels += 1\n",
    "\n",
    "        # Make the prediction based on counts.\n",
    "        if pos_labels > neg_labels:\n",
    "            y_preds = np.append(y_preds, 1)\n",
    "        else:\n",
    "            y_preds = np.append(y_preds, -1)\n",
    "    error, accuracy = calc_performance(y_preds, y)\n",
    "\n",
    "    return error, accuracy"
   ]
  },
  {
   "cell_type": "markdown",
   "id": "eb5a863c",
   "metadata": {},
   "source": [
    "### Hyper-parameter Tuning (*k*)"
   ]
  },
  {
   "cell_type": "code",
   "execution_count": 3,
   "id": "3d975d95",
   "metadata": {},
   "outputs": [],
   "source": [
    "# Combines labels (Y) as another column to feature set (X)\n",
    "def join_data(X, Y):\n",
    "    return np.hstack((X, Y.reshape(Y.shape[0], 1)))\n",
    "\n",
    "def cross_validate(data, model, k, kf):\n",
    "    avg_e = np.array([])\n",
    "    avg_acc = np.array([])\n",
    "    for train_index, test_index in kf.split(data):\n",
    "        error, accuracy = model(data[train_index][:, :data.shape[1] - 1], \n",
    "                                data[train_index][:, -1], \n",
    "                                data[test_index][:, :data.shape[1] - 1],\n",
    "                                data[test_index][:, -1],\n",
    "                                k)\n",
    "        avg_e = np.append(avg_e, error)\n",
    "        avg_acc = np.append(avg_acc, accuracy)\n",
    "    return avg_e.mean(), avg_acc.mean()"
   ]
  },
  {
   "cell_type": "code",
   "execution_count": 4,
   "id": "5f42952a",
   "metadata": {},
   "outputs": [],
   "source": [
    "def tune_k(X, y, k_list = np.arange(1, 11)):\n",
    "    lowest_error = 1\n",
    "    opt_acc = 0\n",
    "    opt_k = 0\n",
    "    data = join_data(X, y)\n",
    "    kf = KFold(n_splits = 5, shuffle = True)\n",
    "\n",
    "    for k in k_list:\n",
    "        print('k = {}...'.format(k))\n",
    "        error, acc = cross_validate(data, knn_classifier, k, kf)\n",
    "        print('error: {}, acc: {}'.format(error, acc))\n",
    "        if error < lowest_error:\n",
    "            opt_k = k\n",
    "            lowest_error = error\n",
    "            opt_acc = acc\n",
    "    print('Best k: {}'.format(opt_k))\n",
    "    return opt_k, acc"
   ]
  }
 ],
 "metadata": {
  "kernelspec": {
   "display_name": "Python 3 (ipykernel)",
   "language": "python",
   "name": "python3"
  },
  "language_info": {
   "codemirror_mode": {
    "name": "ipython",
    "version": 3
   },
   "file_extension": ".py",
   "mimetype": "text/x-python",
   "name": "python",
   "nbconvert_exporter": "python",
   "pygments_lexer": "ipython3",
   "version": "3.9.5"
  }
 },
 "nbformat": 4,
 "nbformat_minor": 5
}
